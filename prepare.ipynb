{
 "cells": [
  {
   "cell_type": "markdown",
   "metadata": {},
   "source": [
    "# Exercises"
   ]
  },
  {
   "cell_type": "code",
   "execution_count": 1,
   "metadata": {},
   "outputs": [],
   "source": [
    "\n",
    "import unicodedata\n",
    "import re\n",
    "import json\n",
    "\n",
    "import nltk\n",
    "from nltk.tokenize.toktok import ToktokTokenizer\n",
    "from nltk.corpus import stopwords\n",
    "\n",
    "import pandas as pd\n",
    "import acquire as a\n",
    "\n",
    "\n",
    "#import\n",
    "import warnings\n",
    "warnings.filterwarnings(\"ignore\")"
   ]
  },
  {
   "cell_type": "markdown",
   "metadata": {},
   "source": [
    "__________"
   ]
  },
  {
   "cell_type": "markdown",
   "metadata": {},
   "source": [
    "### The end result of this exercise should be a file named prepare.py that defines the requested functions.\n",
    "\n",
    "### In this exercise we will be defining some functions to prepare textual data. These functions should apply equally well to both the codeup blog articles and the news articles that were previously acquired."
   ]
  },
  {
   "cell_type": "markdown",
   "metadata": {},
   "source": [
    "_____________"
   ]
  },
  {
   "cell_type": "markdown",
   "metadata": {},
   "source": [
    "## acquire data"
   ]
  },
  {
   "cell_type": "code",
   "execution_count": 60,
   "metadata": {},
   "outputs": [],
   "source": [
    "url_list = ['https://codeup.com/codeups-data-science-career-accelerator-is-here', 'https://codeup.com/data-science-myths',\n",
    "            'https://codeup.com/data-science-vs-data-analytics-whats-the-difference',\n",
    "            'https://codeup.com/10-tips-to-crush-it-at-the-sa-tech-job-fair',\n",
    "            'https://codeup.com/competitor-bootcamps-are-closing-is-the-model-in-danger']\n",
    "\n",
    "df =  a.get_glob_articles(url_list)"
   ]
  },
  {
   "cell_type": "code",
   "execution_count": 61,
   "metadata": {},
   "outputs": [
    {
     "data": {
      "text/html": [
       "<div>\n",
       "<style scoped>\n",
       "    .dataframe tbody tr th:only-of-type {\n",
       "        vertical-align: middle;\n",
       "    }\n",
       "\n",
       "    .dataframe tbody tr th {\n",
       "        vertical-align: top;\n",
       "    }\n",
       "\n",
       "    .dataframe thead th {\n",
       "        text-align: right;\n",
       "    }\n",
       "</style>\n",
       "<table border=\"1\" class=\"dataframe\">\n",
       "  <thead>\n",
       "    <tr style=\"text-align: right;\">\n",
       "      <th></th>\n",
       "      <th>title</th>\n",
       "      <th>content</th>\n",
       "      <th>published_date</th>\n",
       "    </tr>\n",
       "  </thead>\n",
       "  <tbody>\n",
       "    <tr>\n",
       "      <th>0</th>\n",
       "      <td>Codeup’s Data Science Career Accelerator is Here!</td>\n",
       "      <td>The rumors are true! The time has arrived. Cod...</td>\n",
       "      <td>September 30, 2018</td>\n",
       "    </tr>\n",
       "    <tr>\n",
       "      <th>1</th>\n",
       "      <td>Data Science Myths</td>\n",
       "      <td>By Dimitri Antoniou and Maggie GiustData Scien...</td>\n",
       "      <td>October 31, 2018</td>\n",
       "    </tr>\n",
       "    <tr>\n",
       "      <th>2</th>\n",
       "      <td>Data Science VS Data Analytics: What’s The Dif...</td>\n",
       "      <td>By Dimitri AntoniouA week ago, Codeuplaunched ...</td>\n",
       "      <td>October 17, 2018</td>\n",
       "    </tr>\n",
       "    <tr>\n",
       "      <th>3</th>\n",
       "      <td>10 Tips to Crush It at the SA Tech Job Fair</td>\n",
       "      <td>SA Tech Job FairThe third bi-annualSan Antonio...</td>\n",
       "      <td>August 14, 2018</td>\n",
       "    </tr>\n",
       "    <tr>\n",
       "      <th>4</th>\n",
       "      <td>Competitor Bootcamps Are Closing. Is the Model...</td>\n",
       "      <td>Competitor Bootcamps Are Closing. Is the Model...</td>\n",
       "      <td>August 14, 2018</td>\n",
       "    </tr>\n",
       "  </tbody>\n",
       "</table>\n",
       "</div>"
      ],
      "text/plain": [
       "                                               title  \\\n",
       "0  Codeup’s Data Science Career Accelerator is Here!   \n",
       "1                                 Data Science Myths   \n",
       "2  Data Science VS Data Analytics: What’s The Dif...   \n",
       "3        10 Tips to Crush It at the SA Tech Job Fair   \n",
       "4  Competitor Bootcamps Are Closing. Is the Model...   \n",
       "\n",
       "                                             content      published_date  \n",
       "0  The rumors are true! The time has arrived. Cod...  September 30, 2018  \n",
       "1  By Dimitri Antoniou and Maggie GiustData Scien...    October 31, 2018  \n",
       "2  By Dimitri AntoniouA week ago, Codeuplaunched ...    October 17, 2018  \n",
       "3  SA Tech Job FairThe third bi-annualSan Antonio...     August 14, 2018  \n",
       "4  Competitor Bootcamps Are Closing. Is the Model...     August 14, 2018  "
      ]
     },
     "execution_count": 61,
     "metadata": {},
     "output_type": "execute_result"
    }
   ],
   "source": [
    "df"
   ]
  },
  {
   "cell_type": "markdown",
   "metadata": {},
   "source": [
    "#### 1. Define a function named basic_clean. It should take in a string and apply some basic text cleaning to it:\n",
    "\n",
    "- Lowercase everything\n",
    "- Normalize unicode characters\n",
    "- Replace anything that is not a letter, number, whitespace or a single quote."
   ]
  },
  {
   "cell_type": "markdown",
   "metadata": {},
   "source": [
    "**- Lowercase everything**"
   ]
  },
  {
   "cell_type": "code",
   "execution_count": 4,
   "metadata": {},
   "outputs": [
    {
     "data": {
      "text/plain": [
       "0    codeup’s data science career accelerator is here!\n",
       "1                                   data science myths\n",
       "2    data science vs data analytics: what’s the dif...\n",
       "3          10 tips to crush it at the sa tech job fair\n",
       "4    competitor bootcamps are closing. is the model...\n",
       "Name: title, dtype: object"
      ]
     },
     "execution_count": 4,
     "metadata": {},
     "output_type": "execute_result"
    }
   ],
   "source": [
    "#solve for one column\n",
    "df.title.str.lower()"
   ]
  },
  {
   "cell_type": "code",
   "execution_count": 5,
   "metadata": {},
   "outputs": [],
   "source": [
    "#get each colum\n",
    "df2=pd.DataFrame()\n",
    "for column in df.columns:\n",
    "    df2[column]= df[column].str.lower()"
   ]
  },
  {
   "cell_type": "code",
   "execution_count": 6,
   "metadata": {},
   "outputs": [
    {
     "data": {
      "text/html": [
       "<div>\n",
       "<style scoped>\n",
       "    .dataframe tbody tr th:only-of-type {\n",
       "        vertical-align: middle;\n",
       "    }\n",
       "\n",
       "    .dataframe tbody tr th {\n",
       "        vertical-align: top;\n",
       "    }\n",
       "\n",
       "    .dataframe thead th {\n",
       "        text-align: right;\n",
       "    }\n",
       "</style>\n",
       "<table border=\"1\" class=\"dataframe\">\n",
       "  <thead>\n",
       "    <tr style=\"text-align: right;\">\n",
       "      <th></th>\n",
       "      <th>title</th>\n",
       "      <th>content</th>\n",
       "      <th>published_date</th>\n",
       "    </tr>\n",
       "  </thead>\n",
       "  <tbody>\n",
       "    <tr>\n",
       "      <th>0</th>\n",
       "      <td>codeup’s data science career accelerator is here!</td>\n",
       "      <td>the rumors are true! the time has arrived. cod...</td>\n",
       "      <td>september 30, 2018</td>\n",
       "    </tr>\n",
       "    <tr>\n",
       "      <th>1</th>\n",
       "      <td>data science myths</td>\n",
       "      <td>by dimitri antoniou and maggie giustdata scien...</td>\n",
       "      <td>october 31, 2018</td>\n",
       "    </tr>\n",
       "    <tr>\n",
       "      <th>2</th>\n",
       "      <td>data science vs data analytics: what’s the dif...</td>\n",
       "      <td>by dimitri antonioua week ago, codeuplaunched ...</td>\n",
       "      <td>october 17, 2018</td>\n",
       "    </tr>\n",
       "    <tr>\n",
       "      <th>3</th>\n",
       "      <td>10 tips to crush it at the sa tech job fair</td>\n",
       "      <td>sa tech job fairthe third bi-annualsan antonio...</td>\n",
       "      <td>august 14, 2018</td>\n",
       "    </tr>\n",
       "    <tr>\n",
       "      <th>4</th>\n",
       "      <td>competitor bootcamps are closing. is the model...</td>\n",
       "      <td>competitor bootcamps are closing. is the model...</td>\n",
       "      <td>august 14, 2018</td>\n",
       "    </tr>\n",
       "  </tbody>\n",
       "</table>\n",
       "</div>"
      ],
      "text/plain": [
       "                                               title  \\\n",
       "0  codeup’s data science career accelerator is here!   \n",
       "1                                 data science myths   \n",
       "2  data science vs data analytics: what’s the dif...   \n",
       "3        10 tips to crush it at the sa tech job fair   \n",
       "4  competitor bootcamps are closing. is the model...   \n",
       "\n",
       "                                             content      published_date  \n",
       "0  the rumors are true! the time has arrived. cod...  september 30, 2018  \n",
       "1  by dimitri antoniou and maggie giustdata scien...    october 31, 2018  \n",
       "2  by dimitri antonioua week ago, codeuplaunched ...    october 17, 2018  \n",
       "3  sa tech job fairthe third bi-annualsan antonio...     august 14, 2018  \n",
       "4  competitor bootcamps are closing. is the model...     august 14, 2018  "
      ]
     },
     "execution_count": 6,
     "metadata": {},
     "output_type": "execute_result"
    }
   ],
   "source": [
    "df2"
   ]
  },
  {
   "cell_type": "markdown",
   "metadata": {},
   "source": [
    "**Normalize unicode characters**"
   ]
  },
  {
   "cell_type": "code",
   "execution_count": 7,
   "metadata": {},
   "outputs": [],
   "source": [
    "#keep in mind normalize() argument 2 must be str\n",
    "#unicodedata.normalize('NFKC', df2.title)"
   ]
  },
  {
   "cell_type": "code",
   "execution_count": 8,
   "metadata": {},
   "outputs": [],
   "source": [
    "#we need to get each column\n",
    "#then each observation"
   ]
  },
  {
   "cell_type": "code",
   "execution_count": 9,
   "metadata": {},
   "outputs": [],
   "source": [
    "l =[df2.title[n] for n in range (0, len(df2))]"
   ]
  },
  {
   "cell_type": "code",
   "execution_count": 10,
   "metadata": {},
   "outputs": [
    {
     "data": {
      "text/plain": [
       "['codeup’s data science career accelerator is here!',\n",
       " 'data science myths',\n",
       " 'data science vs data analytics: what’s the difference?',\n",
       " '10 tips to crush it at the sa tech job fair',\n",
       " 'competitor bootcamps are closing. is the model in danger?']"
      ]
     },
     "execution_count": 10,
     "metadata": {},
     "output_type": "execute_result"
    }
   ],
   "source": [
    "l"
   ]
  },
  {
   "cell_type": "code",
   "execution_count": 11,
   "metadata": {},
   "outputs": [],
   "source": [
    "for column in df2.columns:\n",
    "    l =[unicodedata.normalize('NFKC',df2[column][n]) for n in range (0, len(df2))]\n",
    "    df2[column]= l"
   ]
  },
  {
   "cell_type": "code",
   "execution_count": 12,
   "metadata": {},
   "outputs": [
    {
     "data": {
      "text/html": [
       "<div>\n",
       "<style scoped>\n",
       "    .dataframe tbody tr th:only-of-type {\n",
       "        vertical-align: middle;\n",
       "    }\n",
       "\n",
       "    .dataframe tbody tr th {\n",
       "        vertical-align: top;\n",
       "    }\n",
       "\n",
       "    .dataframe thead th {\n",
       "        text-align: right;\n",
       "    }\n",
       "</style>\n",
       "<table border=\"1\" class=\"dataframe\">\n",
       "  <thead>\n",
       "    <tr style=\"text-align: right;\">\n",
       "      <th></th>\n",
       "      <th>title</th>\n",
       "      <th>content</th>\n",
       "      <th>published_date</th>\n",
       "    </tr>\n",
       "  </thead>\n",
       "  <tbody>\n",
       "    <tr>\n",
       "      <th>0</th>\n",
       "      <td>codeup’s data science career accelerator is here!</td>\n",
       "      <td>the rumors are true! the time has arrived. cod...</td>\n",
       "      <td>september 30, 2018</td>\n",
       "    </tr>\n",
       "    <tr>\n",
       "      <th>1</th>\n",
       "      <td>data science myths</td>\n",
       "      <td>by dimitri antoniou and maggie giustdata scien...</td>\n",
       "      <td>october 31, 2018</td>\n",
       "    </tr>\n",
       "    <tr>\n",
       "      <th>2</th>\n",
       "      <td>data science vs data analytics: what’s the dif...</td>\n",
       "      <td>by dimitri antonioua week ago, codeuplaunched ...</td>\n",
       "      <td>october 17, 2018</td>\n",
       "    </tr>\n",
       "    <tr>\n",
       "      <th>3</th>\n",
       "      <td>10 tips to crush it at the sa tech job fair</td>\n",
       "      <td>sa tech job fairthe third bi-annualsan antonio...</td>\n",
       "      <td>august 14, 2018</td>\n",
       "    </tr>\n",
       "    <tr>\n",
       "      <th>4</th>\n",
       "      <td>competitor bootcamps are closing. is the model...</td>\n",
       "      <td>competitor bootcamps are closing. is the model...</td>\n",
       "      <td>august 14, 2018</td>\n",
       "    </tr>\n",
       "  </tbody>\n",
       "</table>\n",
       "</div>"
      ],
      "text/plain": [
       "                                               title  \\\n",
       "0  codeup’s data science career accelerator is here!   \n",
       "1                                 data science myths   \n",
       "2  data science vs data analytics: what’s the dif...   \n",
       "3        10 tips to crush it at the sa tech job fair   \n",
       "4  competitor bootcamps are closing. is the model...   \n",
       "\n",
       "                                             content      published_date  \n",
       "0  the rumors are true! the time has arrived. cod...  september 30, 2018  \n",
       "1  by dimitri antoniou and maggie giustdata scien...    october 31, 2018  \n",
       "2  by dimitri antonioua week ago, codeuplaunched ...    october 17, 2018  \n",
       "3  sa tech job fairthe third bi-annualsan antonio...     august 14, 2018  \n",
       "4  competitor bootcamps are closing. is the model...     august 14, 2018  "
      ]
     },
     "execution_count": 12,
     "metadata": {},
     "output_type": "execute_result"
    }
   ],
   "source": [
    "df2"
   ]
  },
  {
   "cell_type": "markdown",
   "metadata": {},
   "source": [
    "**Removing Special Characters**"
   ]
  },
  {
   "cell_type": "code",
   "execution_count": 13,
   "metadata": {},
   "outputs": [],
   "source": [
    "#we need to do it by stringso we can use a comprehension list to do the rows\n",
    "for column in df2.columns:\n",
    "    df2[column]= [re.sub(r\"[^a-z0-9'\\s]\", '', df2[column][n] ) for n in range (0, len(df2))]"
   ]
  },
  {
   "cell_type": "code",
   "execution_count": 14,
   "metadata": {},
   "outputs": [
    {
     "data": {
      "text/html": [
       "<div>\n",
       "<style scoped>\n",
       "    .dataframe tbody tr th:only-of-type {\n",
       "        vertical-align: middle;\n",
       "    }\n",
       "\n",
       "    .dataframe tbody tr th {\n",
       "        vertical-align: top;\n",
       "    }\n",
       "\n",
       "    .dataframe thead th {\n",
       "        text-align: right;\n",
       "    }\n",
       "</style>\n",
       "<table border=\"1\" class=\"dataframe\">\n",
       "  <thead>\n",
       "    <tr style=\"text-align: right;\">\n",
       "      <th></th>\n",
       "      <th>title</th>\n",
       "      <th>content</th>\n",
       "      <th>published_date</th>\n",
       "    </tr>\n",
       "  </thead>\n",
       "  <tbody>\n",
       "    <tr>\n",
       "      <th>0</th>\n",
       "      <td>codeups data science career accelerator is here</td>\n",
       "      <td>the rumors are true the time has arrived codeu...</td>\n",
       "      <td>september 30 2018</td>\n",
       "    </tr>\n",
       "    <tr>\n",
       "      <th>1</th>\n",
       "      <td>data science myths</td>\n",
       "      <td>by dimitri antoniou and maggie giustdata scien...</td>\n",
       "      <td>october 31 2018</td>\n",
       "    </tr>\n",
       "    <tr>\n",
       "      <th>2</th>\n",
       "      <td>data science vs data analytics whats the diffe...</td>\n",
       "      <td>by dimitri antonioua week ago codeuplaunched o...</td>\n",
       "      <td>october 17 2018</td>\n",
       "    </tr>\n",
       "    <tr>\n",
       "      <th>3</th>\n",
       "      <td>10 tips to crush it at the sa tech job fair</td>\n",
       "      <td>sa tech job fairthe third biannualsan antonio ...</td>\n",
       "      <td>august 14 2018</td>\n",
       "    </tr>\n",
       "    <tr>\n",
       "      <th>4</th>\n",
       "      <td>competitor bootcamps are closing is the model ...</td>\n",
       "      <td>competitor bootcamps are closing is the model ...</td>\n",
       "      <td>august 14 2018</td>\n",
       "    </tr>\n",
       "  </tbody>\n",
       "</table>\n",
       "</div>"
      ],
      "text/plain": [
       "                                               title  \\\n",
       "0    codeups data science career accelerator is here   \n",
       "1                                 data science myths   \n",
       "2  data science vs data analytics whats the diffe...   \n",
       "3        10 tips to crush it at the sa tech job fair   \n",
       "4  competitor bootcamps are closing is the model ...   \n",
       "\n",
       "                                             content     published_date  \n",
       "0  the rumors are true the time has arrived codeu...  september 30 2018  \n",
       "1  by dimitri antoniou and maggie giustdata scien...    october 31 2018  \n",
       "2  by dimitri antonioua week ago codeuplaunched o...    october 17 2018  \n",
       "3  sa tech job fairthe third biannualsan antonio ...     august 14 2018  \n",
       "4  competitor bootcamps are closing is the model ...     august 14 2018  "
      ]
     },
     "execution_count": 14,
     "metadata": {},
     "output_type": "execute_result"
    }
   ],
   "source": [
    "df2"
   ]
  },
  {
   "cell_type": "code",
   "execution_count": 15,
   "metadata": {},
   "outputs": [],
   "source": [
    "# create a function\n",
    "def clean_df(df):\n",
    "    '''\n",
    "    takes in a df and lowercase everything, normalize unicode characters, replace anything that is not a letter,\n",
    "    number, whitespace or a single quote.\n",
    "    retunr a clean df\n",
    "    '''\n",
    "    for column in df.columns:\n",
    "        #get lowercase\n",
    "        df[column]= df[column].str.lower()\n",
    "        #normalize\n",
    "        df[column]= [unicodedata.normalize('NFKC',df[column][n])\\\n",
    "                     .encode('ascii', 'ignore')\\\n",
    "                    .decode('utf-8') for n in range (0, len(df))]\n",
    "        #remove special characters\n",
    "        df[column]= [re.sub(r\"[^a-z0-9'\\s]\", '', df[column][n] ) for n in range (0, len(df))]\n",
    "    return df"
   ]
  },
  {
   "cell_type": "code",
   "execution_count": 16,
   "metadata": {},
   "outputs": [],
   "source": [
    "def basic_clean (string):\n",
    "    '''\n",
    "    takes in a string and lowercase everything, normalize unicode characters, replace anything that is not a letter,\n",
    "    number, whitespace or a single quote.\n",
    "    retunr a clean string\n",
    "    '''\n",
    "    \n",
    "    string = string.lower()\n",
    "    string = unicodedata.normalize('NFKC',string)\\\n",
    "    .encode('ascii', 'ignore')\\\n",
    "    .decode('utf-8')\n",
    "    string = re.sub(r\"[^a-z0-9'\\s]\", '', string)\n",
    "    return string"
   ]
  },
  {
   "cell_type": "code",
   "execution_count": 62,
   "metadata": {},
   "outputs": [
    {
     "data": {
      "text/plain": [
       "'the rumors are true the time has arrived codeup has officially opened applications to our new data science career accelerator with only 25 seats available this immersive program is one of a kind in san antonio and will help you land a job inglassdoors 1 best job in americadata science is a method of providing actionable intelligence from datathe data revolution has hit san antonioresulting in an explosion in data scientist positionsacross companies like usaa accenture booz allen hamilton and heb weve even seenutsa invest 70 m for a cybersecurity center and school of data sciencewe built a program to specifically meet the growing demands of this industryour program will be 18 weeks long fulltime handson and projectbased our curriculum development and instruction is led by senior data scientist maggie giust who has worked at heb capital group and rackspace along with input from dozens of practitioners and hiring partners students will work with real data sets realistic problems and the entire data science pipeline from collection to deployment they will receive professional development training in resume writing interviewing and continuing education to prepare for a smooth transition to the workforcewe focus on applied data science for immediate impact and roi in a business which is how we can back it all up with a 6 month tuition refund guarantee  just like our existing web dev program were focusing on data science with python sql and ml covered in14 modules 1 fundamentals 2 applied statistics 3 sql 4 python 5 supervised machine learning  regression 6 supervised machine learning  classification 7 unsupervised machine learning  clustering 8 time series analysis 9 anomaly detection 10 natural language processing 11 distributed machine learning 12 advanced topics deep learning nosql cloud deployment etc 13 storytelling with data and 14 domain expertise developmentapplications are now openfor codeups first data science cohort which will start class on february 4 2019 hurry  there are only 25 seats available to further our mission of cultivating inclusive growth scholarships will be available to women minorities lgbtqia individuals veterans first responders and people relocating to san antonioif you want to learn aboutjoining our programorhiring our graduates email datasciencecodeupcom'"
      ]
     },
     "execution_count": 62,
     "metadata": {},
     "output_type": "execute_result"
    }
   ],
   "source": [
    "basic_clean(df.content[0])"
   ]
  },
  {
   "cell_type": "code",
   "execution_count": 18,
   "metadata": {},
   "outputs": [],
   "source": [
    "def basic_clean_df (df):\n",
    "    '''\n",
    "    takes in a df and using the function basic_clean lowercase everything, normalize unicode characters, replace anything that is not a letter,\n",
    "    number, whitespace or a single quote.\n",
    "    retunr a clean df\n",
    "    '''\n",
    "    for column in df.columns:\n",
    "        df[column]= [basic_clean(df[column][string]) for string in range(0, len(df))]\n",
    "    return df"
   ]
  },
  {
   "cell_type": "code",
   "execution_count": 19,
   "metadata": {},
   "outputs": [],
   "source": [
    "#aquire again data\n",
    "df =  a.get_glob_articles(url_list)"
   ]
  },
  {
   "cell_type": "code",
   "execution_count": 20,
   "metadata": {},
   "outputs": [
    {
     "data": {
      "text/html": [
       "<div>\n",
       "<style scoped>\n",
       "    .dataframe tbody tr th:only-of-type {\n",
       "        vertical-align: middle;\n",
       "    }\n",
       "\n",
       "    .dataframe tbody tr th {\n",
       "        vertical-align: top;\n",
       "    }\n",
       "\n",
       "    .dataframe thead th {\n",
       "        text-align: right;\n",
       "    }\n",
       "</style>\n",
       "<table border=\"1\" class=\"dataframe\">\n",
       "  <thead>\n",
       "    <tr style=\"text-align: right;\">\n",
       "      <th></th>\n",
       "      <th>title</th>\n",
       "      <th>content</th>\n",
       "      <th>published_date</th>\n",
       "    </tr>\n",
       "  </thead>\n",
       "  <tbody>\n",
       "    <tr>\n",
       "      <th>0</th>\n",
       "      <td>Codeup’s Data Science Career Accelerator is Here!</td>\n",
       "      <td>The rumors are true! The time has arrived. Cod...</td>\n",
       "      <td>September 30, 2018</td>\n",
       "    </tr>\n",
       "    <tr>\n",
       "      <th>1</th>\n",
       "      <td>Data Science Myths</td>\n",
       "      <td>By Dimitri Antoniou and Maggie GiustData Scien...</td>\n",
       "      <td>October 31, 2018</td>\n",
       "    </tr>\n",
       "    <tr>\n",
       "      <th>2</th>\n",
       "      <td>Data Science VS Data Analytics: What’s The Dif...</td>\n",
       "      <td>By Dimitri AntoniouA week ago, Codeuplaunched ...</td>\n",
       "      <td>October 17, 2018</td>\n",
       "    </tr>\n",
       "    <tr>\n",
       "      <th>3</th>\n",
       "      <td>10 Tips to Crush It at the SA Tech Job Fair</td>\n",
       "      <td>SA Tech Job FairThe third bi-annualSan Antonio...</td>\n",
       "      <td>August 14, 2018</td>\n",
       "    </tr>\n",
       "    <tr>\n",
       "      <th>4</th>\n",
       "      <td>Competitor Bootcamps Are Closing. Is the Model...</td>\n",
       "      <td>Competitor Bootcamps Are Closing. Is the Model...</td>\n",
       "      <td>August 14, 2018</td>\n",
       "    </tr>\n",
       "  </tbody>\n",
       "</table>\n",
       "</div>"
      ],
      "text/plain": [
       "                                               title  \\\n",
       "0  Codeup’s Data Science Career Accelerator is Here!   \n",
       "1                                 Data Science Myths   \n",
       "2  Data Science VS Data Analytics: What’s The Dif...   \n",
       "3        10 Tips to Crush It at the SA Tech Job Fair   \n",
       "4  Competitor Bootcamps Are Closing. Is the Model...   \n",
       "\n",
       "                                             content      published_date  \n",
       "0  The rumors are true! The time has arrived. Cod...  September 30, 2018  \n",
       "1  By Dimitri Antoniou and Maggie GiustData Scien...    October 31, 2018  \n",
       "2  By Dimitri AntoniouA week ago, Codeuplaunched ...    October 17, 2018  \n",
       "3  SA Tech Job FairThe third bi-annualSan Antonio...     August 14, 2018  \n",
       "4  Competitor Bootcamps Are Closing. Is the Model...     August 14, 2018  "
      ]
     },
     "execution_count": 20,
     "metadata": {},
     "output_type": "execute_result"
    }
   ],
   "source": [
    "df"
   ]
  },
  {
   "cell_type": "code",
   "execution_count": 21,
   "metadata": {},
   "outputs": [],
   "source": [
    "df2 = basic_clean_df(df)"
   ]
  },
  {
   "cell_type": "code",
   "execution_count": 22,
   "metadata": {
    "scrolled": true
   },
   "outputs": [
    {
     "data": {
      "text/html": [
       "<div>\n",
       "<style scoped>\n",
       "    .dataframe tbody tr th:only-of-type {\n",
       "        vertical-align: middle;\n",
       "    }\n",
       "\n",
       "    .dataframe tbody tr th {\n",
       "        vertical-align: top;\n",
       "    }\n",
       "\n",
       "    .dataframe thead th {\n",
       "        text-align: right;\n",
       "    }\n",
       "</style>\n",
       "<table border=\"1\" class=\"dataframe\">\n",
       "  <thead>\n",
       "    <tr style=\"text-align: right;\">\n",
       "      <th></th>\n",
       "      <th>title</th>\n",
       "      <th>content</th>\n",
       "      <th>published_date</th>\n",
       "    </tr>\n",
       "  </thead>\n",
       "  <tbody>\n",
       "    <tr>\n",
       "      <th>0</th>\n",
       "      <td>codeups data science career accelerator is here</td>\n",
       "      <td>the rumors are true the time has arrived codeu...</td>\n",
       "      <td>september 30 2018</td>\n",
       "    </tr>\n",
       "    <tr>\n",
       "      <th>1</th>\n",
       "      <td>data science myths</td>\n",
       "      <td>by dimitri antoniou and maggie giustdata scien...</td>\n",
       "      <td>october 31 2018</td>\n",
       "    </tr>\n",
       "    <tr>\n",
       "      <th>2</th>\n",
       "      <td>data science vs data analytics whats the diffe...</td>\n",
       "      <td>by dimitri antonioua week ago codeuplaunched o...</td>\n",
       "      <td>october 17 2018</td>\n",
       "    </tr>\n",
       "    <tr>\n",
       "      <th>3</th>\n",
       "      <td>10 tips to crush it at the sa tech job fair</td>\n",
       "      <td>sa tech job fairthe third biannualsan antonio ...</td>\n",
       "      <td>august 14 2018</td>\n",
       "    </tr>\n",
       "    <tr>\n",
       "      <th>4</th>\n",
       "      <td>competitor bootcamps are closing is the model ...</td>\n",
       "      <td>competitor bootcamps are closing is the model ...</td>\n",
       "      <td>august 14 2018</td>\n",
       "    </tr>\n",
       "  </tbody>\n",
       "</table>\n",
       "</div>"
      ],
      "text/plain": [
       "                                               title  \\\n",
       "0    codeups data science career accelerator is here   \n",
       "1                                 data science myths   \n",
       "2  data science vs data analytics whats the diffe...   \n",
       "3        10 tips to crush it at the sa tech job fair   \n",
       "4  competitor bootcamps are closing is the model ...   \n",
       "\n",
       "                                             content     published_date  \n",
       "0  the rumors are true the time has arrived codeu...  september 30 2018  \n",
       "1  by dimitri antoniou and maggie giustdata scien...    october 31 2018  \n",
       "2  by dimitri antonioua week ago codeuplaunched o...    october 17 2018  \n",
       "3  sa tech job fairthe third biannualsan antonio ...     august 14 2018  \n",
       "4  competitor bootcamps are closing is the model ...     august 14 2018  "
      ]
     },
     "execution_count": 22,
     "metadata": {},
     "output_type": "execute_result"
    }
   ],
   "source": [
    "df2"
   ]
  },
  {
   "cell_type": "code",
   "execution_count": 23,
   "metadata": {},
   "outputs": [],
   "source": [
    "df3 = clean_df(df)"
   ]
  },
  {
   "cell_type": "code",
   "execution_count": 24,
   "metadata": {},
   "outputs": [
    {
     "data": {
      "text/html": [
       "<div>\n",
       "<style scoped>\n",
       "    .dataframe tbody tr th:only-of-type {\n",
       "        vertical-align: middle;\n",
       "    }\n",
       "\n",
       "    .dataframe tbody tr th {\n",
       "        vertical-align: top;\n",
       "    }\n",
       "\n",
       "    .dataframe thead th {\n",
       "        text-align: right;\n",
       "    }\n",
       "</style>\n",
       "<table border=\"1\" class=\"dataframe\">\n",
       "  <thead>\n",
       "    <tr style=\"text-align: right;\">\n",
       "      <th></th>\n",
       "      <th>title</th>\n",
       "      <th>content</th>\n",
       "      <th>published_date</th>\n",
       "    </tr>\n",
       "  </thead>\n",
       "  <tbody>\n",
       "    <tr>\n",
       "      <th>0</th>\n",
       "      <td>codeups data science career accelerator is here</td>\n",
       "      <td>the rumors are true the time has arrived codeu...</td>\n",
       "      <td>september 30 2018</td>\n",
       "    </tr>\n",
       "    <tr>\n",
       "      <th>1</th>\n",
       "      <td>data science myths</td>\n",
       "      <td>by dimitri antoniou and maggie giustdata scien...</td>\n",
       "      <td>october 31 2018</td>\n",
       "    </tr>\n",
       "    <tr>\n",
       "      <th>2</th>\n",
       "      <td>data science vs data analytics whats the diffe...</td>\n",
       "      <td>by dimitri antonioua week ago codeuplaunched o...</td>\n",
       "      <td>october 17 2018</td>\n",
       "    </tr>\n",
       "    <tr>\n",
       "      <th>3</th>\n",
       "      <td>10 tips to crush it at the sa tech job fair</td>\n",
       "      <td>sa tech job fairthe third biannualsan antonio ...</td>\n",
       "      <td>august 14 2018</td>\n",
       "    </tr>\n",
       "    <tr>\n",
       "      <th>4</th>\n",
       "      <td>competitor bootcamps are closing is the model ...</td>\n",
       "      <td>competitor bootcamps are closing is the model ...</td>\n",
       "      <td>august 14 2018</td>\n",
       "    </tr>\n",
       "  </tbody>\n",
       "</table>\n",
       "</div>"
      ],
      "text/plain": [
       "                                               title  \\\n",
       "0    codeups data science career accelerator is here   \n",
       "1                                 data science myths   \n",
       "2  data science vs data analytics whats the diffe...   \n",
       "3        10 tips to crush it at the sa tech job fair   \n",
       "4  competitor bootcamps are closing is the model ...   \n",
       "\n",
       "                                             content     published_date  \n",
       "0  the rumors are true the time has arrived codeu...  september 30 2018  \n",
       "1  by dimitri antoniou and maggie giustdata scien...    october 31 2018  \n",
       "2  by dimitri antonioua week ago codeuplaunched o...    october 17 2018  \n",
       "3  sa tech job fairthe third biannualsan antonio ...     august 14 2018  \n",
       "4  competitor bootcamps are closing is the model ...     august 14 2018  "
      ]
     },
     "execution_count": 24,
     "metadata": {},
     "output_type": "execute_result"
    }
   ],
   "source": [
    "df3"
   ]
  },
  {
   "cell_type": "markdown",
   "metadata": {},
   "source": [
    "### 2. Define a function named tokenize. It should take in a string and tokenize all the words in the string"
   ]
  },
  {
   "cell_type": "code",
   "execution_count": 63,
   "metadata": {},
   "outputs": [],
   "source": [
    "#get a string\n",
    "string = df.content[0]"
   ]
  },
  {
   "cell_type": "code",
   "execution_count": 64,
   "metadata": {},
   "outputs": [],
   "source": [
    "#clean the string\n",
    "string = basic_clean(string)"
   ]
  },
  {
   "cell_type": "code",
   "execution_count": 65,
   "metadata": {},
   "outputs": [
    {
     "data": {
      "text/plain": [
       "'the rumors are true the time has arrived codeup has officially opened applications to our new data science career accelerator with only 25 seats available this immersive program is one of a kind in san antonio and will help you land a job inglassdoors 1 best job in americadata science is a method of providing actionable intelligence from datathe data revolution has hit san antonioresulting in an explosion in data scientist positionsacross companies like usaa accenture booz allen hamilton and heb weve even seenutsa invest 70 m for a cybersecurity center and school of data sciencewe built a program to specifically meet the growing demands of this industryour program will be 18 weeks long fulltime handson and projectbased our curriculum development and instruction is led by senior data scientist maggie giust who has worked at heb capital group and rackspace along with input from dozens of practitioners and hiring partners students will work with real data sets realistic problems and the entire data science pipeline from collection to deployment they will receive professional development training in resume writing interviewing and continuing education to prepare for a smooth transition to the workforcewe focus on applied data science for immediate impact and roi in a business which is how we can back it all up with a 6 month tuition refund guarantee  just like our existing web dev program were focusing on data science with python sql and ml covered in14 modules 1 fundamentals 2 applied statistics 3 sql 4 python 5 supervised machine learning  regression 6 supervised machine learning  classification 7 unsupervised machine learning  clustering 8 time series analysis 9 anomaly detection 10 natural language processing 11 distributed machine learning 12 advanced topics deep learning nosql cloud deployment etc 13 storytelling with data and 14 domain expertise developmentapplications are now openfor codeups first data science cohort which will start class on february 4 2019 hurry  there are only 25 seats available to further our mission of cultivating inclusive growth scholarships will be available to women minorities lgbtqia individuals veterans first responders and people relocating to san antonioif you want to learn aboutjoining our programorhiring our graduates email datasciencecodeupcom'"
      ]
     },
     "execution_count": 65,
     "metadata": {},
     "output_type": "execute_result"
    }
   ],
   "source": [
    "string"
   ]
  },
  {
   "cell_type": "code",
   "execution_count": 66,
   "metadata": {},
   "outputs": [],
   "source": [
    "def tokenize (string):\n",
    "    '''\n",
    "    take in a string and tokenize all the words in the string\n",
    "    '''\n",
    "    \n",
    "    # Create the tokenizer\n",
    "    tokenizer = nltk.tokenize.ToktokTokenizer()\n",
    "    # Use the tokenizer\n",
    "    string = tokenizer.tokenize(string, return_str = True)\n",
    "    return string\n",
    "    "
   ]
  },
  {
   "cell_type": "code",
   "execution_count": null,
   "metadata": {},
   "outputs": [],
   "source": []
  },
  {
   "cell_type": "code",
   "execution_count": 67,
   "metadata": {},
   "outputs": [
    {
     "data": {
      "text/plain": [
       "'the rumors are true the time has arrived codeup has officially opened applications to our new data science career accelerator with only 25 seats available this immersive program is one of a kind in san antonio and will help you land a job inglassdoors 1 best job in americadata science is a method of providing actionable intelligence from datathe data revolution has hit san antonioresulting in an explosion in data scientist positionsacross companies like usaa accenture booz allen hamilton and heb weve even seenutsa invest 70 m for a cybersecurity center and school of data sciencewe built a program to specifically meet the growing demands of this industryour program will be 18 weeks long fulltime handson and projectbased our curriculum development and instruction is led by senior data scientist maggie giust who has worked at heb capital group and rackspace along with input from dozens of practitioners and hiring partners students will work with real data sets realistic problems and the entire data science pipeline from collection to deployment they will receive professional development training in resume writing interviewing and continuing education to prepare for a smooth transition to the workforcewe focus on applied data science for immediate impact and roi in a business which is how we can back it all up with a 6 month tuition refund guarantee just like our existing web dev program were focusing on data science with python sql and ml covered in14 modules 1 fundamentals 2 applied statistics 3 sql 4 python 5 supervised machine learning regression 6 supervised machine learning classification 7 unsupervised machine learning clustering 8 time series analysis 9 anomaly detection 10 natural language processing 11 distributed machine learning 12 advanced topics deep learning nosql cloud deployment etc 13 storytelling with data and 14 domain expertise developmentapplications are now openfor codeups first data science cohort which will start class on february 4 2019 hurry there are only 25 seats available to further our mission of cultivating inclusive growth scholarships will be available to women minorities lgbtqia individuals veterans first responders and people relocating to san antonioif you want to learn aboutjoining our programorhiring our graduates email datasciencecodeupcom'"
      ]
     },
     "execution_count": 67,
     "metadata": {},
     "output_type": "execute_result"
    }
   ],
   "source": [
    "tokenize(string)"
   ]
  },
  {
   "cell_type": "markdown",
   "metadata": {},
   "source": [
    "### 3. Define a function named stem. It should accept some text and return the text after applying stemming to all the words."
   ]
  },
  {
   "cell_type": "code",
   "execution_count": 30,
   "metadata": {},
   "outputs": [
    {
     "data": {
      "text/plain": [
       "\"paul erdos and george polya are influential hungarian mathematicians who contributed a lot to the field erdos ' s name contains the hungarian letter ' o ' ' o ' with double acute accent but is often incorrectly written as erdos or erdos either by mistake or out of typographical necessity\""
      ]
     },
     "execution_count": 30,
     "metadata": {},
     "output_type": "execute_result"
    }
   ],
   "source": [
    "string"
   ]
  },
  {
   "cell_type": "code",
   "execution_count": 31,
   "metadata": {},
   "outputs": [
    {
     "data": {
      "text/plain": [
       "['paul',\n",
       " 'erdo',\n",
       " 'and',\n",
       " 'georg',\n",
       " 'polya',\n",
       " 'are',\n",
       " 'influenti',\n",
       " 'hungarian',\n",
       " 'mathematician',\n",
       " 'who']"
      ]
     },
     "execution_count": 31,
     "metadata": {},
     "output_type": "execute_result"
    }
   ],
   "source": [
    "# Create porter stemmer.\n",
    "ps = nltk.porter.PorterStemmer()\n",
    "\n",
    "# Apply the stemmer to each word in our string.\n",
    "stems = [ps.stem(word) for word in string.split()]\n",
    "stems[:10]"
   ]
  },
  {
   "cell_type": "code",
   "execution_count": 32,
   "metadata": {},
   "outputs": [
    {
     "data": {
      "text/plain": [
       "\"paul erdo and georg polya are influenti hungarian mathematician who contribut a lot to the field erdo ' s name contain the hungarian letter ' o ' ' o ' with doubl acut accent but is often incorrectli written as erdo or erdo either by mistak or out of typograph necess\""
      ]
     },
     "execution_count": 32,
     "metadata": {},
     "output_type": "execute_result"
    }
   ],
   "source": [
    "# Join our lists of words into a string again; assign to a variable to save changes\n",
    "\n",
    "article_stemmed = ' '.join(stems)\n",
    "article_stemmed"
   ]
  },
  {
   "cell_type": "code",
   "execution_count": 33,
   "metadata": {},
   "outputs": [],
   "source": [
    "def stem (string):\n",
    "    '''\n",
    "     takes in a text and return the text after applying stemming to all the words.\n",
    "    '''\n",
    "    # Create porter stemmer.\n",
    "    ps = nltk.porter.PorterStemmer()\n",
    "    # Apply the stemmer to each word in our string.\n",
    "    stems = [ps.stem(word) for word in string.split()]\n",
    "    text_stemmed = ' '.join(stems)\n",
    "    return text_stemmed \n",
    "    "
   ]
  },
  {
   "cell_type": "code",
   "execution_count": 68,
   "metadata": {},
   "outputs": [
    {
     "data": {
      "text/plain": [
       "'the rumor are true the time ha arriv codeup ha offici open applic to our new data scienc career acceler with onli 25 seat avail thi immers program is one of a kind in san antonio and will help you land a job inglassdoor 1 best job in americadata scienc is a method of provid action intellig from datath data revolut ha hit san antonioresult in an explos in data scientist positionsacross compani like usaa accentur booz allen hamilton and heb weve even seenutsa invest 70 m for a cybersecur center and school of data sciencew built a program to specif meet the grow demand of thi industryour program will be 18 week long fulltim handson and projectbas our curriculum develop and instruct is led by senior data scientist maggi giust who ha work at heb capit group and rackspac along with input from dozen of practition and hire partner student will work with real data set realist problem and the entir data scienc pipelin from collect to deploy they will receiv profession develop train in resum write interview and continu educ to prepar for a smooth transit to the workforcew focu on appli data scienc for immedi impact and roi in a busi which is how we can back it all up with a 6 month tuition refund guarante just like our exist web dev program were focus on data scienc with python sql and ml cover in14 modul 1 fundament 2 appli statist 3 sql 4 python 5 supervis machin learn regress 6 supervis machin learn classif 7 unsupervis machin learn cluster 8 time seri analysi 9 anomali detect 10 natur languag process 11 distribut machin learn 12 advanc topic deep learn nosql cloud deploy etc 13 storytel with data and 14 domain expertis developmentappl are now openfor codeup first data scienc cohort which will start class on februari 4 2019 hurri there are onli 25 seat avail to further our mission of cultiv inclus growth scholarship will be avail to women minor lgbtqia individu veteran first respond and peopl reloc to san antonioif you want to learn aboutjoin our programorhir our graduat email datasciencecodeupcom'"
      ]
     },
     "execution_count": 68,
     "metadata": {},
     "output_type": "execute_result"
    }
   ],
   "source": [
    "stem(string)"
   ]
  },
  {
   "cell_type": "markdown",
   "metadata": {},
   "source": [
    "### 4. Define a function named lemmatize. It should accept some text and return the text after applying lemmatization to each word."
   ]
  },
  {
   "cell_type": "code",
   "execution_count": 35,
   "metadata": {},
   "outputs": [],
   "source": [
    "# # Create the Lemmatizer.\n",
    "\n",
    "# wnl = nltk.stem.WordNetLemmatizer()\n",
    "\n",
    "\n",
    "# # Use the lemmatizer on each word in the list of words we created by using split.\n",
    "\n",
    "# lemmas = [wnl.lemmatize(word) for word in article.split()]"
   ]
  },
  {
   "cell_type": "code",
   "execution_count": 36,
   "metadata": {},
   "outputs": [],
   "source": [
    "def lemmatize (text):\n",
    "    '''\n",
    "     Takes in some text and return the text after applying lemmatization to each word.\n",
    "    '''ds\n",
    "    wnl = nltk.stem.WordNetLemmatizer()\n",
    "    \n",
    "    # Use the lemmatizer on each word in the list of words we created by using split.\n",
    "    lemmas = [wnl.lemmatize(word) for word in text.split()]\n",
    "    \n",
    "    # Join our list of words into a string again; assign to a variable to save changes.\n",
    "    text_lemmatized = ' '.join(lemmas)\n",
    "    \n",
    "    return text_lemmatized\n",
    "    \n",
    "    "
   ]
  },
  {
   "cell_type": "code",
   "execution_count": 37,
   "metadata": {},
   "outputs": [],
   "source": []
  },
  {
   "cell_type": "code",
   "execution_count": 69,
   "metadata": {},
   "outputs": [],
   "source": [
    "lem_text =lemmatize(string)"
   ]
  },
  {
   "cell_type": "code",
   "execution_count": 70,
   "metadata": {},
   "outputs": [
    {
     "data": {
      "text/plain": [
       "'the rumor are true the time ha arrived codeup ha officially opened application to our new data science career accelerator with only 25 seat available this immersive program is one of a kind in san antonio and will help you land a job inglassdoors 1 best job in americadata science is a method of providing actionable intelligence from datathe data revolution ha hit san antonioresulting in an explosion in data scientist positionsacross company like usaa accenture booz allen hamilton and heb weve even seenutsa invest 70 m for a cybersecurity center and school of data sciencewe built a program to specifically meet the growing demand of this industryour program will be 18 week long fulltime handson and projectbased our curriculum development and instruction is led by senior data scientist maggie giust who ha worked at heb capital group and rackspace along with input from dozen of practitioner and hiring partner student will work with real data set realistic problem and the entire data science pipeline from collection to deployment they will receive professional development training in resume writing interviewing and continuing education to prepare for a smooth transition to the workforcewe focus on applied data science for immediate impact and roi in a business which is how we can back it all up with a 6 month tuition refund guarantee just like our existing web dev program were focusing on data science with python sql and ml covered in14 module 1 fundamental 2 applied statistic 3 sql 4 python 5 supervised machine learning regression 6 supervised machine learning classification 7 unsupervised machine learning clustering 8 time series analysis 9 anomaly detection 10 natural language processing 11 distributed machine learning 12 advanced topic deep learning nosql cloud deployment etc 13 storytelling with data and 14 domain expertise developmentapplications are now openfor codeups first data science cohort which will start class on february 4 2019 hurry there are only 25 seat available to further our mission of cultivating inclusive growth scholarship will be available to woman minority lgbtqia individual veteran first responder and people relocating to san antonioif you want to learn aboutjoining our programorhiring our graduate email datasciencecodeupcom'"
      ]
     },
     "execution_count": 70,
     "metadata": {},
     "output_type": "execute_result"
    }
   ],
   "source": [
    "lem_text"
   ]
  },
  {
   "cell_type": "markdown",
   "metadata": {},
   "source": [
    "### 5. Define a function named remove_stopwords. It should accept some text and return the text after removing all the stopwords.\n",
    "\n",
    "\n",
    "This function should define two optional parameters, extra_words and exclude_words. These parameters should define any additional stop words to include, and any words that we don't want to remove."
   ]
  },
  {
   "cell_type": "code",
   "execution_count": 40,
   "metadata": {},
   "outputs": [],
   "source": [
    "# # standard English language stopwords list from nltk\n",
    "\n",
    "# stopword_list = stopwords.words('english')\n",
    "\n",
    "# # you can add or remove from stopword list \n",
    "# stopword_list.append('o')\n",
    "# stopword_list.remove('not')\n",
    "\n",
    "# # Split words in lemmatized article.\n",
    "# words = article_lemmatized.split()\n",
    "\n",
    "# # Create a list of words from my string with stopwords removed and assign to variable.\n",
    "# filtered_words = [word for word in words if word not in stopword_list]\n",
    "\n",
    "# # Join words in the list back into strings; assign to a variable to keep changes.\n",
    "# article_without_stopwords = ' '.join(filtered_words)"
   ]
  },
  {
   "cell_type": "code",
   "execution_count": 78,
   "metadata": {},
   "outputs": [],
   "source": [
    "def remove_stopwords (string, extra_words= [], exclude_words=[]):\n",
    "    '''\n",
    "    Takes in a strand return the text after removing all the stopwords.\n",
    "    Parameters:\n",
    "    string : text in  string type\n",
    "    extra_words : list of additional stop words to include,\n",
    "    exclude_words : list of any words that we don't want to remove.\n",
    "\n",
    "    '''\n",
    "    # standard English language stopwords list from nltk\n",
    "    stopword_list = stopwords.words('english')\n",
    "    \n",
    "    #add extra_words\n",
    "    stopword_list =stopword_list + extra_words\n",
    "    \n",
    "    #exclude words\n",
    "    for element in exclude_words:\n",
    "        if element in stopword_list:\n",
    "            stopword_list.remove(element)\n",
    "    # Split words.\n",
    "    words = string.split()\n",
    "    \n",
    "    # Create a list of words from my string with stopwords removed and assign to variable.\n",
    "    filtered_words = [word for word in words if word not in stopword_list]\n",
    "    \n",
    "    # Join words in the list back into strings; assign to a variable to keep changes.\n",
    "    string_without_stopwords = ' '.join(filtered_words)\n",
    "    \n",
    "    return string_without_stopwords"
   ]
  },
  {
   "cell_type": "code",
   "execution_count": 99,
   "metadata": {},
   "outputs": [],
   "source": [
    "stopword_list = stopwords.words('english')"
   ]
  },
  {
   "cell_type": "code",
   "execution_count": 101,
   "metadata": {},
   "outputs": [
    {
     "data": {
      "text/plain": [
       "['i',\n",
       " 'me',\n",
       " 'my',\n",
       " 'myself',\n",
       " 'we',\n",
       " 'our',\n",
       " 'ours',\n",
       " 'ourselves',\n",
       " 'you',\n",
       " \"you're\",\n",
       " \"you've\",\n",
       " \"you'll\",\n",
       " \"you'd\",\n",
       " 'your',\n",
       " 'yours',\n",
       " 'yourself',\n",
       " 'yourselves',\n",
       " 'he',\n",
       " 'him',\n",
       " 'his',\n",
       " 'himself',\n",
       " 'she',\n",
       " \"she's\",\n",
       " 'her',\n",
       " 'hers',\n",
       " 'herself',\n",
       " 'it',\n",
       " \"it's\",\n",
       " 'its',\n",
       " 'itself',\n",
       " 'they',\n",
       " 'them',\n",
       " 'their',\n",
       " 'theirs',\n",
       " 'themselves',\n",
       " 'what',\n",
       " 'which',\n",
       " 'who',\n",
       " 'whom',\n",
       " 'this',\n",
       " 'that',\n",
       " \"that'll\",\n",
       " 'these',\n",
       " 'those',\n",
       " 'am',\n",
       " 'is',\n",
       " 'are',\n",
       " 'was',\n",
       " 'were',\n",
       " 'be',\n",
       " 'been',\n",
       " 'being',\n",
       " 'have',\n",
       " 'has',\n",
       " 'had',\n",
       " 'having',\n",
       " 'do',\n",
       " 'does',\n",
       " 'did',\n",
       " 'doing',\n",
       " 'a',\n",
       " 'an',\n",
       " 'the',\n",
       " 'and',\n",
       " 'but',\n",
       " 'if',\n",
       " 'or',\n",
       " 'because',\n",
       " 'as',\n",
       " 'until',\n",
       " 'while',\n",
       " 'of',\n",
       " 'at',\n",
       " 'by',\n",
       " 'for',\n",
       " 'with',\n",
       " 'about',\n",
       " 'against',\n",
       " 'between',\n",
       " 'into',\n",
       " 'through',\n",
       " 'during',\n",
       " 'before',\n",
       " 'after',\n",
       " 'above',\n",
       " 'below',\n",
       " 'to',\n",
       " 'from',\n",
       " 'up',\n",
       " 'down',\n",
       " 'in',\n",
       " 'out',\n",
       " 'on',\n",
       " 'off',\n",
       " 'over',\n",
       " 'under',\n",
       " 'again',\n",
       " 'further',\n",
       " 'then',\n",
       " 'once',\n",
       " 'here',\n",
       " 'there',\n",
       " 'when',\n",
       " 'where',\n",
       " 'why',\n",
       " 'how',\n",
       " 'all',\n",
       " 'any',\n",
       " 'both',\n",
       " 'each',\n",
       " 'few',\n",
       " 'more',\n",
       " 'most',\n",
       " 'other',\n",
       " 'some',\n",
       " 'such',\n",
       " 'no',\n",
       " 'nor',\n",
       " 'not',\n",
       " 'only',\n",
       " 'own',\n",
       " 'same',\n",
       " 'so',\n",
       " 'than',\n",
       " 'too',\n",
       " 'very',\n",
       " 's',\n",
       " 't',\n",
       " 'can',\n",
       " 'will',\n",
       " 'just',\n",
       " 'don',\n",
       " \"don't\",\n",
       " 'should',\n",
       " \"should've\",\n",
       " 'now',\n",
       " 'd',\n",
       " 'll',\n",
       " 'm',\n",
       " 'o',\n",
       " 're',\n",
       " 've',\n",
       " 'y',\n",
       " 'ain',\n",
       " 'aren',\n",
       " \"aren't\",\n",
       " 'couldn',\n",
       " \"couldn't\",\n",
       " 'didn',\n",
       " \"didn't\",\n",
       " 'doesn',\n",
       " \"doesn't\",\n",
       " 'hadn',\n",
       " \"hadn't\",\n",
       " 'hasn',\n",
       " \"hasn't\",\n",
       " 'haven',\n",
       " \"haven't\",\n",
       " 'isn',\n",
       " \"isn't\",\n",
       " 'ma',\n",
       " 'mightn',\n",
       " \"mightn't\",\n",
       " 'mustn',\n",
       " \"mustn't\",\n",
       " 'needn',\n",
       " \"needn't\",\n",
       " 'shan',\n",
       " \"shan't\",\n",
       " 'shouldn',\n",
       " \"shouldn't\",\n",
       " 'wasn',\n",
       " \"wasn't\",\n",
       " 'weren',\n",
       " \"weren't\",\n",
       " 'won',\n",
       " \"won't\",\n",
       " 'wouldn',\n",
       " \"wouldn't\"]"
      ]
     },
     "execution_count": 101,
     "metadata": {},
     "output_type": "execute_result"
    }
   ],
   "source": [
    "stopword_list"
   ]
  },
  {
   "cell_type": "code",
   "execution_count": 73,
   "metadata": {},
   "outputs": [
    {
     "data": {
      "text/plain": [
       "'rumors true time arrived codeup officially opened applications new data science career accelerator 25 seats available immersive program one kind san antonio help land job inglassdoors 1 best job americadata science method providing actionable intelligence datathe data revolution hit san antonioresulting explosion data scientist positionsacross companies like usaa accenture booz allen hamilton heb weve even seenutsa invest 70 cybersecurity center school data sciencewe built program specifically meet growing demands industryour program 18 weeks long fulltime handson projectbased curriculum development instruction led senior data scientist maggie giust worked heb capital group rackspace along input dozens practitioners hiring partners students work real data sets realistic problems entire data science pipeline collection deployment receive professional development training resume writing interviewing continuing education prepare smooth transition workforcewe focus applied data science immediate impact roi business back 6 month tuition refund guarantee like existing web dev program focusing data science python sql ml covered in14 modules 1 fundamentals 2 applied statistics 3 sql 4 python 5 supervised machine learning regression 6 supervised machine learning classification 7 unsupervised machine learning clustering 8 time series analysis 9 anomaly detection 10 natural language processing 11 distributed machine learning 12 advanced topics deep learning nosql cloud deployment etc 13 storytelling data 14 domain expertise developmentapplications openfor codeups first data science cohort start class february 4 2019 hurry 25 seats available mission cultivating inclusive growth scholarships available women minorities lgbtqia individuals veterans first responders people relocating san antonioif want learn aboutjoining programorhiring graduates email datasciencecodeupcom'"
      ]
     },
     "execution_count": 73,
     "metadata": {},
     "output_type": "execute_result"
    }
   ],
   "source": [
    "#test my function\n",
    "remove_stopwords(string)"
   ]
  },
  {
   "cell_type": "markdown",
   "metadata": {},
   "source": [
    "### 6. Use your data from the acquire to produce a dataframe of the news articles. Name the dataframe news_df."
   ]
  },
  {
   "cell_type": "code",
   "execution_count": 74,
   "metadata": {},
   "outputs": [],
   "source": [
    "\n",
    "categories = [\"business\", \"sports\", \"technology\", \"entertainment\", \"science\", \"world\"]\n",
    "news_df = a.get_all_news_articles(categories)"
   ]
  },
  {
   "cell_type": "code",
   "execution_count": 75,
   "metadata": {},
   "outputs": [
    {
     "data": {
      "text/html": [
       "<div>\n",
       "<style scoped>\n",
       "    .dataframe tbody tr th:only-of-type {\n",
       "        vertical-align: middle;\n",
       "    }\n",
       "\n",
       "    .dataframe tbody tr th {\n",
       "        vertical-align: top;\n",
       "    }\n",
       "\n",
       "    .dataframe thead th {\n",
       "        text-align: right;\n",
       "    }\n",
       "</style>\n",
       "<table border=\"1\" class=\"dataframe\">\n",
       "  <thead>\n",
       "    <tr style=\"text-align: right;\">\n",
       "      <th></th>\n",
       "      <th>title</th>\n",
       "      <th>content</th>\n",
       "      <th>category</th>\n",
       "    </tr>\n",
       "  </thead>\n",
       "  <tbody>\n",
       "    <tr>\n",
       "      <th>0</th>\n",
       "      <td>Reliance Industries vaccinates 98% of workers,...</td>\n",
       "      <td>Reliance Industries has said in a statement th...</td>\n",
       "      <td>business</td>\n",
       "    </tr>\n",
       "    <tr>\n",
       "      <th>1</th>\n",
       "      <td>Speculation around our plans for crypto not tr...</td>\n",
       "      <td>Amazon on Monday denied speculations that it w...</td>\n",
       "      <td>business</td>\n",
       "    </tr>\n",
       "    <tr>\n",
       "      <th>2</th>\n",
       "      <td>I will most likely not be on future earnings c...</td>\n",
       "      <td>Tesla CEO and the world's second-richest perso...</td>\n",
       "      <td>business</td>\n",
       "    </tr>\n",
       "    <tr>\n",
       "      <th>3</th>\n",
       "      <td>Musk criticises Apple's 'walled garden', cobal...</td>\n",
       "      <td>Tesla's billionaire CEO Elon Musk criticised A...</td>\n",
       "      <td>business</td>\n",
       "    </tr>\n",
       "    <tr>\n",
       "      <th>4</th>\n",
       "      <td>Factually incorrect: INOX on report of Amazon ...</td>\n",
       "      <td>INOX Leisure denied a report that claimed Amaz...</td>\n",
       "      <td>business</td>\n",
       "    </tr>\n",
       "  </tbody>\n",
       "</table>\n",
       "</div>"
      ],
      "text/plain": [
       "                                               title  \\\n",
       "0  Reliance Industries vaccinates 98% of workers,...   \n",
       "1  Speculation around our plans for crypto not tr...   \n",
       "2  I will most likely not be on future earnings c...   \n",
       "3  Musk criticises Apple's 'walled garden', cobal...   \n",
       "4  Factually incorrect: INOX on report of Amazon ...   \n",
       "\n",
       "                                             content  category  \n",
       "0  Reliance Industries has said in a statement th...  business  \n",
       "1  Amazon on Monday denied speculations that it w...  business  \n",
       "2  Tesla CEO and the world's second-richest perso...  business  \n",
       "3  Tesla's billionaire CEO Elon Musk criticised A...  business  \n",
       "4  INOX Leisure denied a report that claimed Amaz...  business  "
      ]
     },
     "execution_count": 75,
     "metadata": {},
     "output_type": "execute_result"
    }
   ],
   "source": [
    "news_df.head()"
   ]
  },
  {
   "cell_type": "code",
   "execution_count": 46,
   "metadata": {},
   "outputs": [
    {
     "data": {
      "text/plain": [
       "(148, 3)"
      ]
     },
     "execution_count": 46,
     "metadata": {},
     "output_type": "execute_result"
    }
   ],
   "source": [
    "news_df.shape"
   ]
  },
  {
   "cell_type": "markdown",
   "metadata": {},
   "source": [
    "### 7. Make another dataframe for the Codeup blog posts. Name the dataframe codeup_df"
   ]
  },
  {
   "cell_type": "code",
   "execution_count": 47,
   "metadata": {},
   "outputs": [],
   "source": [
    "url_list = ['https://codeup.com/codeups-data-science-career-accelerator-is-here', 'https://codeup.com/data-science-myths',\n",
    "            'https://codeup.com/data-science-vs-data-analytics-whats-the-difference',\n",
    "            'https://codeup.com/10-tips-to-crush-it-at-the-sa-tech-job-fair',\n",
    "            'https://codeup.com/competitor-bootcamps-are-closing-is-the-model-in-danger']\n",
    "\n",
    "codeup_df =  a.get_glob_articles(url_list)"
   ]
  },
  {
   "cell_type": "code",
   "execution_count": 48,
   "metadata": {
    "collapsed": true
   },
   "outputs": [
    {
     "data": {
      "text/html": [
       "<div>\n",
       "<style scoped>\n",
       "    .dataframe tbody tr th:only-of-type {\n",
       "        vertical-align: middle;\n",
       "    }\n",
       "\n",
       "    .dataframe tbody tr th {\n",
       "        vertical-align: top;\n",
       "    }\n",
       "\n",
       "    .dataframe thead th {\n",
       "        text-align: right;\n",
       "    }\n",
       "</style>\n",
       "<table border=\"1\" class=\"dataframe\">\n",
       "  <thead>\n",
       "    <tr style=\"text-align: right;\">\n",
       "      <th></th>\n",
       "      <th>title</th>\n",
       "      <th>content</th>\n",
       "      <th>published_date</th>\n",
       "    </tr>\n",
       "  </thead>\n",
       "  <tbody>\n",
       "    <tr>\n",
       "      <th>0</th>\n",
       "      <td>Codeup’s Data Science Career Accelerator is Here!</td>\n",
       "      <td>The rumors are true! The time has arrived. Cod...</td>\n",
       "      <td>September 30, 2018</td>\n",
       "    </tr>\n",
       "    <tr>\n",
       "      <th>1</th>\n",
       "      <td>Data Science Myths</td>\n",
       "      <td>By Dimitri Antoniou and Maggie GiustData Scien...</td>\n",
       "      <td>October 31, 2018</td>\n",
       "    </tr>\n",
       "    <tr>\n",
       "      <th>2</th>\n",
       "      <td>Data Science VS Data Analytics: What’s The Dif...</td>\n",
       "      <td>By Dimitri AntoniouA week ago, Codeuplaunched ...</td>\n",
       "      <td>October 17, 2018</td>\n",
       "    </tr>\n",
       "    <tr>\n",
       "      <th>3</th>\n",
       "      <td>10 Tips to Crush It at the SA Tech Job Fair</td>\n",
       "      <td>SA Tech Job FairThe third bi-annualSan Antonio...</td>\n",
       "      <td>August 14, 2018</td>\n",
       "    </tr>\n",
       "    <tr>\n",
       "      <th>4</th>\n",
       "      <td>Competitor Bootcamps Are Closing. Is the Model...</td>\n",
       "      <td>Competitor Bootcamps Are Closing. Is the Model...</td>\n",
       "      <td>August 14, 2018</td>\n",
       "    </tr>\n",
       "  </tbody>\n",
       "</table>\n",
       "</div>"
      ],
      "text/plain": [
       "                                               title  \\\n",
       "0  Codeup’s Data Science Career Accelerator is Here!   \n",
       "1                                 Data Science Myths   \n",
       "2  Data Science VS Data Analytics: What’s The Dif...   \n",
       "3        10 Tips to Crush It at the SA Tech Job Fair   \n",
       "4  Competitor Bootcamps Are Closing. Is the Model...   \n",
       "\n",
       "                                             content      published_date  \n",
       "0  The rumors are true! The time has arrived. Cod...  September 30, 2018  \n",
       "1  By Dimitri Antoniou and Maggie GiustData Scien...    October 31, 2018  \n",
       "2  By Dimitri AntoniouA week ago, Codeuplaunched ...    October 17, 2018  \n",
       "3  SA Tech Job FairThe third bi-annualSan Antonio...     August 14, 2018  \n",
       "4  Competitor Bootcamps Are Closing. Is the Model...     August 14, 2018  "
      ]
     },
     "execution_count": 48,
     "metadata": {},
     "output_type": "execute_result"
    }
   ],
   "source": [
    "codeup_df"
   ]
  },
  {
   "cell_type": "markdown",
   "metadata": {},
   "source": [
    "### 8. For each dataframe, produce the following columns:\n",
    "\n",
    "- title to hold the title\n",
    "- original to hold the original article/post content\n",
    "- clean to hold the normalized and tokenized original with the stopwords removed.\n",
    "- stemmed to hold the stemmed version of the cleaned data.\n",
    "- lemmatized to hold the lemmatized version of the cleaned data."
   ]
  },
  {
   "cell_type": "markdown",
   "metadata": {},
   "source": [
    "**codeup**"
   ]
  },
  {
   "cell_type": "code",
   "execution_count": 94,
   "metadata": {},
   "outputs": [],
   "source": [
    "def prepare_df (df, extra_words= ['rumors'], exclude_words=[]):\n",
    "    '''\n",
    "    takes in a df and\n",
    "    '''\n",
    "    #create a new df\n",
    "    df2 = pd.DataFrame(columns = ['title','original'])\n",
    "    df2['title'] = df['title']\n",
    "    df2['original'] = df['content']\n",
    "    #clean and tokenize\n",
    "    for column in df2.columns:\n",
    "        df2[column + '_clean']= [basic_clean(df2[column][string]) for string in range(0, len(df2))]\n",
    "        df2[column + '_clean']=[tokenize(df2[column + '_clean'][string]) for string in range(0, len(df2))]\n",
    "        #stemmed & lemmatize\n",
    "        stem_list= []\n",
    "        lemm_list= []\n",
    "        stop_word = []\n",
    "        for string in range(0, len(df2)):\n",
    "            #remove stopwords\n",
    "            stop_word.append(remove_stopwords(df2[column][string], extra_words= extra_words, exclude_words=exclude_words))\n",
    "            #stemmed\n",
    "            text_stem= stem(df2[column + '_clean'][string])\n",
    "            stem_list.append(text_stem)\n",
    "            #lemmatize\n",
    "            text_lem = lemmatize(df2[column + '_clean'][string])\n",
    "            lemm_list.append(text_lem)\n",
    "        df2[column +'_stemmed'] = stem_list\n",
    "        df2[column +'_lemmatize'] = lemm_list\n",
    "        #df2[column + '_clean'] = stop_word\n",
    "    \n",
    "    return df2"
   ]
  },
  {
   "cell_type": "code",
   "execution_count": null,
   "metadata": {},
   "outputs": [],
   "source": []
  },
  {
   "cell_type": "code",
   "execution_count": 95,
   "metadata": {},
   "outputs": [],
   "source": [
    "df2 =prepare_df(codeup_df)"
   ]
  },
  {
   "cell_type": "code",
   "execution_count": 96,
   "metadata": {},
   "outputs": [
    {
     "data": {
      "text/html": [
       "<div>\n",
       "<style scoped>\n",
       "    .dataframe tbody tr th:only-of-type {\n",
       "        vertical-align: middle;\n",
       "    }\n",
       "\n",
       "    .dataframe tbody tr th {\n",
       "        vertical-align: top;\n",
       "    }\n",
       "\n",
       "    .dataframe thead th {\n",
       "        text-align: right;\n",
       "    }\n",
       "</style>\n",
       "<table border=\"1\" class=\"dataframe\">\n",
       "  <thead>\n",
       "    <tr style=\"text-align: right;\">\n",
       "      <th></th>\n",
       "      <th>title</th>\n",
       "      <th>original</th>\n",
       "      <th>title_clean</th>\n",
       "      <th>title_stemmed</th>\n",
       "      <th>title_lemmatize</th>\n",
       "      <th>original_clean</th>\n",
       "      <th>original_stemmed</th>\n",
       "      <th>original_lemmatize</th>\n",
       "    </tr>\n",
       "  </thead>\n",
       "  <tbody>\n",
       "    <tr>\n",
       "      <th>0</th>\n",
       "      <td>Codeup’s Data Science Career Accelerator is Here!</td>\n",
       "      <td>The rumors are true! The time has arrived. Cod...</td>\n",
       "      <td>codeups data science career accelerator is here</td>\n",
       "      <td>codeup data scienc career acceler is here</td>\n",
       "      <td>codeups data science career accelerator is here</td>\n",
       "      <td>the rumors are true the time has arrived codeu...</td>\n",
       "      <td>the rumor are true the time ha arriv codeup ha...</td>\n",
       "      <td>the rumor are true the time ha arrived codeup ...</td>\n",
       "    </tr>\n",
       "    <tr>\n",
       "      <th>1</th>\n",
       "      <td>Data Science Myths</td>\n",
       "      <td>By Dimitri Antoniou and Maggie GiustData Scien...</td>\n",
       "      <td>data science myths</td>\n",
       "      <td>data scienc myth</td>\n",
       "      <td>data science myth</td>\n",
       "      <td>by dimitri antoniou and maggie giustdata scien...</td>\n",
       "      <td>by dimitri antoni and maggi giustdata scienc b...</td>\n",
       "      <td>by dimitri antoniou and maggie giustdata scien...</td>\n",
       "    </tr>\n",
       "    <tr>\n",
       "      <th>2</th>\n",
       "      <td>Data Science VS Data Analytics: What’s The Dif...</td>\n",
       "      <td>By Dimitri AntoniouA week ago, Codeuplaunched ...</td>\n",
       "      <td>data science vs data analytics whats the diffe...</td>\n",
       "      <td>data scienc vs data analyt what the differ</td>\n",
       "      <td>data science v data analytics whats the differ...</td>\n",
       "      <td>by dimitri antonioua week ago codeuplaunched o...</td>\n",
       "      <td>by dimitri antonioua week ago codeuplaunch our...</td>\n",
       "      <td>by dimitri antonioua week ago codeuplaunched o...</td>\n",
       "    </tr>\n",
       "    <tr>\n",
       "      <th>3</th>\n",
       "      <td>10 Tips to Crush It at the SA Tech Job Fair</td>\n",
       "      <td>SA Tech Job FairThe third bi-annualSan Antonio...</td>\n",
       "      <td>10 tips to crush it at the sa tech job fair</td>\n",
       "      <td>10 tip to crush it at the sa tech job fair</td>\n",
       "      <td>10 tip to crush it at the sa tech job fair</td>\n",
       "      <td>sa tech job fairthe third biannualsan antonio ...</td>\n",
       "      <td>sa tech job fairth third biannualsan antonio t...</td>\n",
       "      <td>sa tech job fairthe third biannualsan antonio ...</td>\n",
       "    </tr>\n",
       "    <tr>\n",
       "      <th>4</th>\n",
       "      <td>Competitor Bootcamps Are Closing. Is the Model...</td>\n",
       "      <td>Competitor Bootcamps Are Closing. Is the Model...</td>\n",
       "      <td>competitor bootcamps are closing is the model ...</td>\n",
       "      <td>competitor bootcamp are close is the model in ...</td>\n",
       "      <td>competitor bootcamps are closing is the model ...</td>\n",
       "      <td>competitor bootcamps are closing is the model ...</td>\n",
       "      <td>competitor bootcamp are close is the model in ...</td>\n",
       "      <td>competitor bootcamps are closing is the model ...</td>\n",
       "    </tr>\n",
       "  </tbody>\n",
       "</table>\n",
       "</div>"
      ],
      "text/plain": [
       "                                               title  \\\n",
       "0  Codeup’s Data Science Career Accelerator is Here!   \n",
       "1                                 Data Science Myths   \n",
       "2  Data Science VS Data Analytics: What’s The Dif...   \n",
       "3        10 Tips to Crush It at the SA Tech Job Fair   \n",
       "4  Competitor Bootcamps Are Closing. Is the Model...   \n",
       "\n",
       "                                            original  \\\n",
       "0  The rumors are true! The time has arrived. Cod...   \n",
       "1  By Dimitri Antoniou and Maggie GiustData Scien...   \n",
       "2  By Dimitri AntoniouA week ago, Codeuplaunched ...   \n",
       "3  SA Tech Job FairThe third bi-annualSan Antonio...   \n",
       "4  Competitor Bootcamps Are Closing. Is the Model...   \n",
       "\n",
       "                                         title_clean  \\\n",
       "0    codeups data science career accelerator is here   \n",
       "1                                 data science myths   \n",
       "2  data science vs data analytics whats the diffe...   \n",
       "3        10 tips to crush it at the sa tech job fair   \n",
       "4  competitor bootcamps are closing is the model ...   \n",
       "\n",
       "                                       title_stemmed  \\\n",
       "0          codeup data scienc career acceler is here   \n",
       "1                                   data scienc myth   \n",
       "2         data scienc vs data analyt what the differ   \n",
       "3         10 tip to crush it at the sa tech job fair   \n",
       "4  competitor bootcamp are close is the model in ...   \n",
       "\n",
       "                                     title_lemmatize  \\\n",
       "0    codeups data science career accelerator is here   \n",
       "1                                  data science myth   \n",
       "2  data science v data analytics whats the differ...   \n",
       "3         10 tip to crush it at the sa tech job fair   \n",
       "4  competitor bootcamps are closing is the model ...   \n",
       "\n",
       "                                      original_clean  \\\n",
       "0  the rumors are true the time has arrived codeu...   \n",
       "1  by dimitri antoniou and maggie giustdata scien...   \n",
       "2  by dimitri antonioua week ago codeuplaunched o...   \n",
       "3  sa tech job fairthe third biannualsan antonio ...   \n",
       "4  competitor bootcamps are closing is the model ...   \n",
       "\n",
       "                                    original_stemmed  \\\n",
       "0  the rumor are true the time ha arriv codeup ha...   \n",
       "1  by dimitri antoni and maggi giustdata scienc b...   \n",
       "2  by dimitri antonioua week ago codeuplaunch our...   \n",
       "3  sa tech job fairth third biannualsan antonio t...   \n",
       "4  competitor bootcamp are close is the model in ...   \n",
       "\n",
       "                                  original_lemmatize  \n",
       "0  the rumor are true the time ha arrived codeup ...  \n",
       "1  by dimitri antoniou and maggie giustdata scien...  \n",
       "2  by dimitri antonioua week ago codeuplaunched o...  \n",
       "3  sa tech job fairthe third biannualsan antonio ...  \n",
       "4  competitor bootcamps are closing is the model ...  "
      ]
     },
     "execution_count": 96,
     "metadata": {},
     "output_type": "execute_result"
    }
   ],
   "source": [
    "df2"
   ]
  },
  {
   "cell_type": "code",
   "execution_count": 52,
   "metadata": {},
   "outputs": [
    {
     "data": {
      "text/plain": [
       "Index(['title', 'original', 'title_clean', 'title_stemmed', 'title_lemmatize',\n",
       "       'original_clean', 'original_stemmed', 'original_lemmatize'],\n",
       "      dtype='object')"
      ]
     },
     "execution_count": 52,
     "metadata": {},
     "output_type": "execute_result"
    }
   ],
   "source": [
    "df2.columns"
   ]
  },
  {
   "cell_type": "markdown",
   "metadata": {},
   "source": [
    "**news articles**"
   ]
  },
  {
   "cell_type": "code",
   "execution_count": 53,
   "metadata": {},
   "outputs": [],
   "source": [
    "categories = [\"business\", \"sports\", \"technology\", \"entertainment\", \"science\", \"world\"]\n",
    "news_df = a.get_all_news_articles(categories)"
   ]
  },
  {
   "cell_type": "code",
   "execution_count": 54,
   "metadata": {},
   "outputs": [
    {
     "data": {
      "text/html": [
       "<div>\n",
       "<style scoped>\n",
       "    .dataframe tbody tr th:only-of-type {\n",
       "        vertical-align: middle;\n",
       "    }\n",
       "\n",
       "    .dataframe tbody tr th {\n",
       "        vertical-align: top;\n",
       "    }\n",
       "\n",
       "    .dataframe thead th {\n",
       "        text-align: right;\n",
       "    }\n",
       "</style>\n",
       "<table border=\"1\" class=\"dataframe\">\n",
       "  <thead>\n",
       "    <tr style=\"text-align: right;\">\n",
       "      <th></th>\n",
       "      <th>title</th>\n",
       "      <th>content</th>\n",
       "      <th>category</th>\n",
       "    </tr>\n",
       "  </thead>\n",
       "  <tbody>\n",
       "    <tr>\n",
       "      <th>0</th>\n",
       "      <td>Reliance Industries vaccinates 98% of workers,...</td>\n",
       "      <td>Reliance Industries has said in a statement th...</td>\n",
       "      <td>business</td>\n",
       "    </tr>\n",
       "    <tr>\n",
       "      <th>1</th>\n",
       "      <td>I will most likely not be on future earnings c...</td>\n",
       "      <td>Tesla CEO and the world's second-richest perso...</td>\n",
       "      <td>business</td>\n",
       "    </tr>\n",
       "    <tr>\n",
       "      <th>2</th>\n",
       "      <td>Speculation around our plans for crypto not tr...</td>\n",
       "      <td>Amazon on Monday denied speculations that it w...</td>\n",
       "      <td>business</td>\n",
       "    </tr>\n",
       "    <tr>\n",
       "      <th>3</th>\n",
       "      <td>Musk criticises Apple's 'walled garden', cobal...</td>\n",
       "      <td>Tesla's billionaire CEO Elon Musk criticised A...</td>\n",
       "      <td>business</td>\n",
       "    </tr>\n",
       "    <tr>\n",
       "      <th>4</th>\n",
       "      <td>Factually incorrect: INOX on report of Amazon ...</td>\n",
       "      <td>INOX Leisure denied a report that claimed Amaz...</td>\n",
       "      <td>business</td>\n",
       "    </tr>\n",
       "    <tr>\n",
       "      <th>...</th>\n",
       "      <td>...</td>\n",
       "      <td>...</td>\n",
       "      <td>...</td>\n",
       "    </tr>\n",
       "    <tr>\n",
       "      <th>143</th>\n",
       "      <td>1st person charged under Hong Kong national se...</td>\n",
       "      <td>The first person to be tried under the nationa...</td>\n",
       "      <td>world</td>\n",
       "    </tr>\n",
       "    <tr>\n",
       "      <th>144</th>\n",
       "      <td>Myanmar military cancels 2020 polls results wo...</td>\n",
       "      <td>Myanmar's military government on Monday cancel...</td>\n",
       "      <td>world</td>\n",
       "    </tr>\n",
       "    <tr>\n",
       "      <th>145</th>\n",
       "      <td>US combat mission in Iraq to conclude by year-...</td>\n",
       "      <td>US President Joe Biden said America would end ...</td>\n",
       "      <td>world</td>\n",
       "    </tr>\n",
       "    <tr>\n",
       "      <th>146</th>\n",
       "      <td>Haiti arrests top security chief over Prez Moi...</td>\n",
       "      <td>Haitian police have arrested the head of Presi...</td>\n",
       "      <td>world</td>\n",
       "    </tr>\n",
       "    <tr>\n",
       "      <th>147</th>\n",
       "      <td>Pakistan reopens Afghanistan border crossing h...</td>\n",
       "      <td>Pakistan has reopened a major southwestern bor...</td>\n",
       "      <td>world</td>\n",
       "    </tr>\n",
       "  </tbody>\n",
       "</table>\n",
       "<p>148 rows × 3 columns</p>\n",
       "</div>"
      ],
      "text/plain": [
       "                                                 title  \\\n",
       "0    Reliance Industries vaccinates 98% of workers,...   \n",
       "1    I will most likely not be on future earnings c...   \n",
       "2    Speculation around our plans for crypto not tr...   \n",
       "3    Musk criticises Apple's 'walled garden', cobal...   \n",
       "4    Factually incorrect: INOX on report of Amazon ...   \n",
       "..                                                 ...   \n",
       "143  1st person charged under Hong Kong national se...   \n",
       "144  Myanmar military cancels 2020 polls results wo...   \n",
       "145  US combat mission in Iraq to conclude by year-...   \n",
       "146  Haiti arrests top security chief over Prez Moi...   \n",
       "147  Pakistan reopens Afghanistan border crossing h...   \n",
       "\n",
       "                                               content  category  \n",
       "0    Reliance Industries has said in a statement th...  business  \n",
       "1    Tesla CEO and the world's second-richest perso...  business  \n",
       "2    Amazon on Monday denied speculations that it w...  business  \n",
       "3    Tesla's billionaire CEO Elon Musk criticised A...  business  \n",
       "4    INOX Leisure denied a report that claimed Amaz...  business  \n",
       "..                                                 ...       ...  \n",
       "143  The first person to be tried under the nationa...     world  \n",
       "144  Myanmar's military government on Monday cancel...     world  \n",
       "145  US President Joe Biden said America would end ...     world  \n",
       "146  Haitian police have arrested the head of Presi...     world  \n",
       "147  Pakistan has reopened a major southwestern bor...     world  \n",
       "\n",
       "[148 rows x 3 columns]"
      ]
     },
     "execution_count": 54,
     "metadata": {},
     "output_type": "execute_result"
    }
   ],
   "source": [
    "news_df"
   ]
  },
  {
   "cell_type": "code",
   "execution_count": 58,
   "metadata": {},
   "outputs": [],
   "source": [
    "new_news = prepare_df(news_df)"
   ]
  },
  {
   "cell_type": "code",
   "execution_count": 59,
   "metadata": {},
   "outputs": [
    {
     "data": {
      "text/html": [
       "<div>\n",
       "<style scoped>\n",
       "    .dataframe tbody tr th:only-of-type {\n",
       "        vertical-align: middle;\n",
       "    }\n",
       "\n",
       "    .dataframe tbody tr th {\n",
       "        vertical-align: top;\n",
       "    }\n",
       "\n",
       "    .dataframe thead th {\n",
       "        text-align: right;\n",
       "    }\n",
       "</style>\n",
       "<table border=\"1\" class=\"dataframe\">\n",
       "  <thead>\n",
       "    <tr style=\"text-align: right;\">\n",
       "      <th></th>\n",
       "      <th>title</th>\n",
       "      <th>original</th>\n",
       "      <th>title_clean</th>\n",
       "      <th>title_stemmed</th>\n",
       "      <th>title_lemmatize</th>\n",
       "      <th>original_clean</th>\n",
       "      <th>original_stemmed</th>\n",
       "      <th>original_lemmatize</th>\n",
       "    </tr>\n",
       "  </thead>\n",
       "  <tbody>\n",
       "    <tr>\n",
       "      <th>0</th>\n",
       "      <td>Reliance Industries vaccinates 98% of workers,...</td>\n",
       "      <td>Reliance Industries has said in a statement th...</td>\n",
       "      <td>reliance industries vaccinates 98 of workers h...</td>\n",
       "      <td>relianc industri vaccin 98 of worker hul inocu...</td>\n",
       "      <td>reliance industry vaccinates 98 of worker hul ...</td>\n",
       "      <td>reliance industries has said in a statement th...</td>\n",
       "      <td>relianc industri ha said in a statement that o...</td>\n",
       "      <td>reliance industry ha said in a statement that ...</td>\n",
       "    </tr>\n",
       "    <tr>\n",
       "      <th>1</th>\n",
       "      <td>I will most likely not be on future earnings c...</td>\n",
       "      <td>Tesla CEO and the world's second-richest perso...</td>\n",
       "      <td>i will most likely not be on future earnings c...</td>\n",
       "      <td>i will most like not be on futur earn call tes...</td>\n",
       "      <td>i will most likely not be on future earnings c...</td>\n",
       "      <td>tesla ceo and the world ' s secondrichest pers...</td>\n",
       "      <td>tesla ceo and the world ' s secondrichest pers...</td>\n",
       "      <td>tesla ceo and the world ' s secondrichest pers...</td>\n",
       "    </tr>\n",
       "    <tr>\n",
       "      <th>2</th>\n",
       "      <td>Speculation around our plans for crypto not tr...</td>\n",
       "      <td>Amazon on Monday denied speculations that it w...</td>\n",
       "      <td>speculation around our plans for crypto not tr...</td>\n",
       "      <td>specul around our plan for crypto not true ama...</td>\n",
       "      <td>speculation around our plan for crypto not tru...</td>\n",
       "      <td>amazon on monday denied speculations that it w...</td>\n",
       "      <td>amazon on monday deni specul that it wa look t...</td>\n",
       "      <td>amazon on monday denied speculation that it wa...</td>\n",
       "    </tr>\n",
       "    <tr>\n",
       "      <th>3</th>\n",
       "      <td>Musk criticises Apple's 'walled garden', cobal...</td>\n",
       "      <td>Tesla's billionaire CEO Elon Musk criticised A...</td>\n",
       "      <td>musk criticises apple ' s ' walled garden ' co...</td>\n",
       "      <td>musk criticis appl ' s ' wall garden ' cobalt ...</td>\n",
       "      <td>musk criticises apple ' s ' walled garden ' co...</td>\n",
       "      <td>tesla ' s billionaire ceo elon musk criticised...</td>\n",
       "      <td>tesla ' s billionair ceo elon musk criticis ap...</td>\n",
       "      <td>tesla ' s billionaire ceo elon musk criticised...</td>\n",
       "    </tr>\n",
       "    <tr>\n",
       "      <th>4</th>\n",
       "      <td>Factually incorrect: INOX on report of Amazon ...</td>\n",
       "      <td>INOX Leisure denied a report that claimed Amaz...</td>\n",
       "      <td>factually incorrect inox on report of amazon i...</td>\n",
       "      <td>factual incorrect inox on report of amazon ind...</td>\n",
       "      <td>factually incorrect inox on report of amazon i...</td>\n",
       "      <td>inox leisure denied a report that claimed amaz...</td>\n",
       "      <td>inox leisur deni a report that claim amazon in...</td>\n",
       "      <td>inox leisure denied a report that claimed amaz...</td>\n",
       "    </tr>\n",
       "  </tbody>\n",
       "</table>\n",
       "</div>"
      ],
      "text/plain": [
       "                                               title  \\\n",
       "0  Reliance Industries vaccinates 98% of workers,...   \n",
       "1  I will most likely not be on future earnings c...   \n",
       "2  Speculation around our plans for crypto not tr...   \n",
       "3  Musk criticises Apple's 'walled garden', cobal...   \n",
       "4  Factually incorrect: INOX on report of Amazon ...   \n",
       "\n",
       "                                            original  \\\n",
       "0  Reliance Industries has said in a statement th...   \n",
       "1  Tesla CEO and the world's second-richest perso...   \n",
       "2  Amazon on Monday denied speculations that it w...   \n",
       "3  Tesla's billionaire CEO Elon Musk criticised A...   \n",
       "4  INOX Leisure denied a report that claimed Amaz...   \n",
       "\n",
       "                                         title_clean  \\\n",
       "0  reliance industries vaccinates 98 of workers h...   \n",
       "1  i will most likely not be on future earnings c...   \n",
       "2  speculation around our plans for crypto not tr...   \n",
       "3  musk criticises apple ' s ' walled garden ' co...   \n",
       "4  factually incorrect inox on report of amazon i...   \n",
       "\n",
       "                                       title_stemmed  \\\n",
       "0  relianc industri vaccin 98 of worker hul inocu...   \n",
       "1  i will most like not be on futur earn call tes...   \n",
       "2  specul around our plan for crypto not true ama...   \n",
       "3  musk criticis appl ' s ' wall garden ' cobalt ...   \n",
       "4  factual incorrect inox on report of amazon ind...   \n",
       "\n",
       "                                     title_lemmatize  \\\n",
       "0  reliance industry vaccinates 98 of worker hul ...   \n",
       "1  i will most likely not be on future earnings c...   \n",
       "2  speculation around our plan for crypto not tru...   \n",
       "3  musk criticises apple ' s ' walled garden ' co...   \n",
       "4  factually incorrect inox on report of amazon i...   \n",
       "\n",
       "                                      original_clean  \\\n",
       "0  reliance industries has said in a statement th...   \n",
       "1  tesla ceo and the world ' s secondrichest pers...   \n",
       "2  amazon on monday denied speculations that it w...   \n",
       "3  tesla ' s billionaire ceo elon musk criticised...   \n",
       "4  inox leisure denied a report that claimed amaz...   \n",
       "\n",
       "                                    original_stemmed  \\\n",
       "0  relianc industri ha said in a statement that o...   \n",
       "1  tesla ceo and the world ' s secondrichest pers...   \n",
       "2  amazon on monday deni specul that it wa look t...   \n",
       "3  tesla ' s billionair ceo elon musk criticis ap...   \n",
       "4  inox leisur deni a report that claim amazon in...   \n",
       "\n",
       "                                  original_lemmatize  \n",
       "0  reliance industry ha said in a statement that ...  \n",
       "1  tesla ceo and the world ' s secondrichest pers...  \n",
       "2  amazon on monday denied speculation that it wa...  \n",
       "3  tesla ' s billionaire ceo elon musk criticised...  \n",
       "4  inox leisure denied a report that claimed amaz...  "
      ]
     },
     "execution_count": 59,
     "metadata": {},
     "output_type": "execute_result"
    }
   ],
   "source": [
    "new_news.head()"
   ]
  },
  {
   "cell_type": "markdown",
   "metadata": {},
   "source": [
    "### 9. Ask yourself:\n",
    "\n",
    "- If your corpus is 493KB, would you prefer to use stemmed or lemmatized text?\n",
    "- If your corpus is 25MB, would you prefer to use stemmed or lemmatized text?\n",
    "- If your corpus is 200TB of text and you're charged by the megabyte for your hosted computational resources, would you prefer to use stemmed or lemmatized text?"
   ]
  },
  {
   "cell_type": "code",
   "execution_count": 97,
   "metadata": {},
   "outputs": [
    {
     "data": {
      "text/plain": [
       "<WordListCorpusReader in '/Users/cindyvillanueva/nltk_data/corpora/stopwords'>"
      ]
     },
     "execution_count": 97,
     "metadata": {},
     "output_type": "execute_result"
    }
   ],
   "source": [
    "stopwords"
   ]
  },
  {
   "cell_type": "code",
   "execution_count": null,
   "metadata": {},
   "outputs": [],
   "source": []
  }
 ],
 "metadata": {
  "kernelspec": {
   "display_name": "Python 3",
   "language": "python",
   "name": "python3"
  },
  "language_info": {
   "codemirror_mode": {
    "name": "ipython",
    "version": 3
   },
   "file_extension": ".py",
   "mimetype": "text/x-python",
   "name": "python",
   "nbconvert_exporter": "python",
   "pygments_lexer": "ipython3",
   "version": "3.8.5"
  }
 },
 "nbformat": 4,
 "nbformat_minor": 4
}
